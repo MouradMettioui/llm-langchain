{
 "cells": [
  {
   "cell_type": "code",
   "execution_count": 110,
   "metadata": {},
   "outputs": [],
   "source": [
    "import os\n",
    "from dotenv import load_dotenv\n",
    "load_dotenv()\n",
    "os.environ[\"LANGCHAIN_TRACING_V2\"] = \"true\"\n",
    "os.environ[\"LANGCHAIN_API_KEY\"] = os.getenv(\"LANGCHAIN_API_KEY\")\n",
    "os.environ[\"OPENAI_API_KEY\"] = os.getenv(\"API_KEY\")\n",
    "os.environ[\"TAVILY_API_KEY\"] = os.getenv(\"TAVILY_KEY\")\n",
    "api_key = os.getenv(\"API_KEY\")\n",
    "token= os.getenv(\"IUCN_API_KEY\")\n",
    "\n",
    "from langchain_openai import ChatOpenAI\n",
    "from langchain_core.prompts import ChatPromptTemplate\n",
    "from langchain_community.tools.tavily_search import TavilySearchResults\n",
    "from langchain_core.output_parsers import StrOutputParser\n",
    "from langgraph.prebuilt import create_react_agent\n",
    "from langgraph.checkpoint.memory import MemorySaver\n",
    "from langsmith import traceable\n",
    "import bs4\n",
    "from langchain_community.document_loaders import WebBaseLoader\n",
    "\n",
    "memory = MemorySaver()\n",
    "search = TavilySearchResults(max_results=2)"
   ]
  },
  {
   "cell_type": "code",
   "execution_count": 111,
   "metadata": {},
   "outputs": [
    {
     "name": "stdout",
     "output_type": "stream",
     "text": [
      "Nombre de documents chargés: 2\n"
     ]
    }
   ],
   "source": [
    "from langchain.document_loaders import PyMuPDFLoader\n",
    "bs4_strainer = bs4.SoupStrainer(class_=(\"node node--type-article node--view-mode-full\",\"list-results__classification\",\"list-results__subtitle\",\"species-category -sm -icon species-category--lc\"))\n",
    "pdf_paths = [\"report-iucn.pdf\",\"2024-012-En.pdf\"]\n",
    "pdf_docs = []\n",
    "for pdf_path in pdf_paths:\n",
    "    pdf_loader = PyMuPDFLoader(pdf_path)\n",
    "    pdf_docs.extend(pdf_loader.load())\n",
    "\n",
    "web_loader = WebBaseLoader(\n",
    "    web_paths=(\"https://wwf.be/fr/communiques-de-presse/rapport-planete-vivante-du-wwf-les-populations-danimaux-sauvages-connaissent\",\n",
    "               \"https://www.iucnredlist.org/search/list?taxonLevel=Amazing&searchType=species\"\n",
    "               ),\n",
    "\n",
    "    bs_kwargs={\"parse_only\": bs4_strainer},\n",
    ")\n",
    "web_docs = web_loader.load()\n",
    "all_docs = web_docs + pdf_docs\n",
    "print(f\"Nombre de documents chargés: {len(web_docs)}\")"
   ]
  },
  {
   "cell_type": "code",
   "execution_count": 112,
   "metadata": {},
   "outputs": [
    {
     "data": {
      "text/plain": [
       "0"
      ]
     },
     "execution_count": 112,
     "metadata": {},
     "output_type": "execute_result"
    }
   ],
   "source": [
    "len(all_docs[1].page_content)"
   ]
  },
  {
   "cell_type": "code",
   "execution_count": 113,
   "metadata": {},
   "outputs": [
    {
     "data": {
      "text/plain": [
       "{'source': 'report-iucn.pdf',\n",
       " 'file_path': 'report-iucn.pdf',\n",
       " 'page': 0,\n",
       " 'total_pages': 24,\n",
       " 'format': 'PDF 1.7',\n",
       " 'title': '',\n",
       " 'author': '',\n",
       " 'subject': '',\n",
       " 'keywords': '',\n",
       " 'creator': 'Adobe InDesign 16.3 (Macintosh)',\n",
       " 'producer': 'Adobe PDF Library 15.0',\n",
       " 'creationDate': \"D:20210811115201+01'00'\",\n",
       " 'modDate': \"D:20210811115230+01'00'\",\n",
       " 'trapped': '',\n",
       " 'start_index': 0}"
      ]
     },
     "execution_count": 113,
     "metadata": {},
     "output_type": "execute_result"
    }
   ],
   "source": [
    "from langchain_text_splitters import RecursiveCharacterTextSplitter\n",
    "\n",
    "text_splitter = RecursiveCharacterTextSplitter(\n",
    "    chunk_size=1000, chunk_overlap=200, add_start_index=True\n",
    ")\n",
    "all_splits = text_splitter.split_documents(all_docs)\n",
    "\n",
    "len(all_splits)\n",
    "len(all_splits[0].page_content)\n",
    "all_splits[0].metadata"
   ]
  },
  {
   "cell_type": "code",
   "execution_count": 114,
   "metadata": {},
   "outputs": [],
   "source": [
    "from langchain_community.vectorstores import FAISS \n",
    "from langchain_openai import OpenAIEmbeddings\n",
    "\n",
    "if not os.path.exists(\"faiss_index\"):\n",
    "    vectorstore = FAISS.from_documents(documents=all_splits, embedding=OpenAIEmbeddings(model=\"text-embedding-3-large\"))\n",
    "    vectorstore.save_local(\"faiss_index\")\n",
    "else:\n",
    "    local_index=FAISS.load_local(\"faiss_index\", embeddings=OpenAIEmbeddings(model=\"text-embedding-3-large\"),allow_dangerous_deserialization=True)\n",
    "\n",
    "# docsearch = FAISS.load_local(\"faiss_index\", embeddings)\n"
   ]
  },
  {
   "cell_type": "code",
   "execution_count": 115,
   "metadata": {},
   "outputs": [
    {
     "data": {
      "text/plain": [
       "6"
      ]
     },
     "execution_count": 115,
     "metadata": {},
     "output_type": "execute_result"
    }
   ],
   "source": [
    "retriever = local_index.as_retriever(search_type=\"similarity\", search_kwargs={\"k\": 6})\n",
    "\n",
    "retrieved_docs = retriever.invoke(\"quel est le déclin moyen des populations d'animaux sauvages ?\")\n",
    "\n",
    "len(retrieved_docs)\n",
    "# print(retrieved_docs[0].page_content)"
   ]
  },
  {
   "cell_type": "code",
   "execution_count": 123,
   "metadata": {},
   "outputs": [],
   "source": [
    "import http.client\n",
    "import json\n",
    "from bs4 import BeautifulSoup\n",
    "\n",
    "def get_species_assessment(genus, species):\n",
    "    \"\"\"\n",
    "    Cette fonction récupère les informations détaillées d'une espèce à partir de l'API IUCN Redlist.\n",
    "    \n",
    "    :param genus: Le genre de l'espèce\n",
    "    :param species: Le nom de l'espèce\n",
    "    :return: Un dictionnaire contenant les détails de l'espèce ou un message d'erreur\n",
    "    \"\"\"\n",
    "    \n",
    "    # Connexion à l'API\n",
    "    conn = http.client.HTTPSConnection(\"api.iucnredlist.org\")\n",
    "    payload = ''\n",
    "    headers = {\n",
    "        'Authorization': token\n",
    "    }\n",
    "\n",
    "    # Étape 1 : Récupérer l'assessment_id\n",
    "    conn.request(\"GET\", f\"/api/v4/taxa/scientific_name?genus_name={genus}&species_name={species}\", payload, headers)\n",
    "    res = conn.getresponse()\n",
    "    data = res.read()\n",
    "    json_data = data.decode(\"utf-8\")\n",
    "    parsed_data = json.loads(json_data)\n",
    "\n",
    "    # Vérifier si l'assessment_id est présent\n",
    "    if \"assessments\" in parsed_data and len(parsed_data[\"assessments\"]) > 0:\n",
    "        # Récupérer l'assessment_id\n",
    "        assessment_id = parsed_data[\"assessments\"][0][\"assessment_id\"]\n",
    "        # print(f\"Assessment ID pour {genus} {species} : {assessment_id}\")\n",
    "\n",
    "        # Étape 2 : Utiliser l'assessment_id pour récupérer les détails\n",
    "        conn.request(\"GET\", f\"/api/v4/assessment/{assessment_id}\", payload, headers)\n",
    "        res = conn.getresponse()\n",
    "        data = res.read()\n",
    "        json_data = data.decode(\"utf-8\")\n",
    "        parsed_data = json.loads(json_data)\n",
    "\n",
    "        # Vérifier que les données sont présentes\n",
    "        if \"taxon\" in parsed_data:\n",
    "            result = parsed_data[\"taxon\"]\n",
    "            racine = parsed_data\n",
    "            species_info = {\n",
    "                \"assessment_id\" : assessment_id,\n",
    "                \"Nom scientifique\": result.get(\"scientific_name\", \"N/A\"),\n",
    "                \"Ordre\": result.get(\"order_name\", \"N/A\"),\n",
    "                \"Classe\": result.get(\"class_name\", \"N/A\"),\n",
    "                \"Royaume\": result.get(\"kingdom_name\", \"N/A\"),\n",
    "                \"Niveau de danger\": racine['red_list_category']['description'].get('en', \"N/A\"),\n",
    "                \"Tendance de la population\": racine['population_trend']['description'].get('en', \"N/A\")\n",
    "            }\n",
    "\n",
    "            # Nettoyage des habitats et menaces\n",
    "            habitats = racine['documentation'].get('habitats', \"\")\n",
    "            threats = racine['documentation'].get('threats', \"\")\n",
    "            \n",
    "            # Nettoyer le HTML des habitats et des menaces\n",
    "            cleaned_habitats = BeautifulSoup(habitats, \"html.parser\").get_text()\n",
    "            cleaned_threats = BeautifulSoup(threats, \"html.parser\").get_text()\n",
    "\n",
    "            species_info[\"Habitat\"] = cleaned_habitats\n",
    "            species_info[\"Menaces\"] = cleaned_threats\n",
    "\n",
    "            return species_info\n",
    "\n",
    "    return {\"message\": \"Aucune donnée trouvée pour cet assessment ID.\"}\n"
   ]
  },
  {
   "cell_type": "code",
   "execution_count": 117,
   "metadata": {},
   "outputs": [],
   "source": [
    "from langchain.agents import tool\n",
    "from langchain.agents import Tool\n",
    "\n",
    "@tool\n",
    "def iucn_redlist_tool(genus: str, species: str):\n",
    "    \"\"\"\n",
    "    Outil LangChain qui utilise l'API IUCN Redlist pour obtenir des informations sur une espèce.\n",
    "    \n",
    "    :param genus: Le genre de l'espèce (ex. Panthera)\n",
    "    :param species: Le nom de l'espèce (ex. leo)\n",
    "    :return: Un dictionnaire contenant les informations sur l'espèce\n",
    "    \"\"\"\n",
    "    return get_species_assessment(genus, species)\n",
    "\n",
    "redlist = iucn_redlist_tool\n"
   ]
  },
  {
   "cell_type": "code",
   "execution_count": 118,
   "metadata": {},
   "outputs": [],
   "source": [
    "\n",
    "tools = [search,redlist]\n",
    "\n",
    "model = ChatOpenAI(api_key=api_key, model=\"gpt-3.5-turbo\")\n",
    "# model_with_tools = model.bind_tools(tools)\n",
    "agent_executor = create_react_agent(model, tools,checkpointer=memory)\n",
    "config = {\"configurable\": {\"thread_id\": \"abc120\"}}"
   ]
  },
  {
   "cell_type": "code",
   "execution_count": 124,
   "metadata": {},
   "outputs": [
    {
     "name": "stdout",
     "output_type": "stream",
     "text": [
      "Les noms communs couramment utilisés pour l'espèce Ailurus fulgens sont le \"Panda roux\" ou le\n",
      "\"Renard de feu\".\n"
     ]
    },
    {
     "data": {
      "text/plain": [
       "[SystemMessage(content=\"Use the following pieces of context and the tools at your disposition to answer the question at the end.\\nIf you don't know the answer, just say that you don't know.\\nUse five sentences maximum and keep the answer as concise as possible.\\n24\\n25\\nSpecies that are recovering\\nSpecies that are declining\\nKinabalu Slender Litter Frog \\nLeptobrachella arayai\\nThis amphibian moved from Vulnerable to \\nLeast Concern in 2018. It is known from \\nKinabalu National Park and Crocker Range \\nNational Park (Trus Madi) in Malaysia. In \\n2004, the major threat to this species was \\nrapid logging of sub-montane forests for \\ntimber. However, industrial logging activities \\nat Trus Madi have nearly ceased and are not \\noccurring at elevations where this species \\noccurs. Both of the national parks are well \\nprotected and well-managed, and Trus Madi \\nis a High Conservation Value Forest.\\nMadagascar's lemurs\\nwith 103 of the 107 surviving species \\nthreatened with extinction, mainly due to \\ndeforestation and hunting in Madagascar\\nThe Irrawaddy Dolphin \\nOrcaella brevirostris \\nand Narrow-ridged Finless Porpoise \\nNeophocaena asiaeorientalis\\nhave both declined, moving from the \\nVulnerable to the Endangered category. \\nNumbers more than halved over the past 60\\n\\nnational and continent-wide levels. \\nGeographical range\\niucnredlist.org | 2021\\nThe IUCN Red List of \\nThreatened Species™  \\nis made possible through the  \\nRed List Partnership with the \\nsupport of the IUCN-Toyota  \\nRed List Partnership.\\nAmazing Species  \\nis sponsored by\\nPhoto © Fernando Trujillo\\n\\nand Narrow-ridged Finless Porpoise \\nNeophocaena asiaeorientalis\\nhave both declined, moving from the \\nVulnerable to the Endangered category. \\nNumbers more than halved over the past 60 \\nyears for the Irrawaddy Dolphin, and over the \\npast 45 years for the Finless Porpoise.\\nOkarito Kiwi \\nApteryx rowi \\nIntensive predator control on small New \\nZealand islands led to the re-categorisation \\nof the Okarito Kiwi (Apteryx rowi) and the \\nNorthern Brown Kiwi (Apteryx mantelli) from \\nEndangered to Vulnerable. Both species \\nof Kiwi have been facing threats including \\nhabitat loss and predation by introduced \\nmammals, such as stoats and feral cats. \\nGovernment and community conservation \\nefforts have focused on predator control, \\nand removing and incubating eggs for \\nrelease into the wild. \\nImage credits: Kinabalu Slender Litter Frog (Leptobrachella arayai) ©Andreas & Christel Nöllert, Jena\\nOkarito Kiwi (Apteryx rowi) ©Grant Maslowski\\n\\ndonor institutions to allocate substantial \\nadditional resources for conservation of \\nspecies and their habitats to halt the decline \\nin biodiversity. \\nThis led to the Global Species Action \\nPlan which addresses the deterioration \\nof our life support system through the \\nessential but often neglected lens of \\nspecies conservation.\\nIt calls for collaborative efforts by the \\nbiodiversity-related conventions, by State and \\nnon-State actors, and society as a whole to \\nact now to ensure we pass on a rich natural \\nheritage to future generations.\\nThe IUCN Red List is also the foundation \\non which ‘Reverse the Red’ was conceived. \\nReverse the Red aims to ignite optimism \\nand collaborative action to guarantee the \\nsurvival of all species we share this planet \\nwith, and the ecosystems they live in. It aims \\nto empower communities around the world to \\nreverse the declining trajectory of biodiversity.\\n7\\nImage credits: Chinese Water Dragon (Physignathus cocincinus) © Michael Cota\\nVULNERABLE\\nVU\\n\\nof the species using the IUCN Red \\nList highlights the actions needed to \\npromote recovery\\n•\\t\\nEnvironmental safeguarding measures \\ncan be triggered by the presence of \\nthreatened species\\nThe IUCN Red List catalyses conservation. Species extinction would have been greater \\nwithout conservation action and many species have undergone dramatic recoveries due to \\nsustained interventions over time. Successful conservation action and policies need to be \\nscaled-up and expanded to halt the decline of biodiversity and to put nature on the path to \\nrecovery by 2030\\nImage credits: Madame Berthe's Mouse Lemur (Microcebus berthae) © Russell A. Mittermeier\\nCRITICALLY\\nENDANGERED\\nCR\\n\\nLeast Concern; a value of zero is equivalent to all species being classified as Extinct.\\n1980\\n1985\\n1990\\n1995\\n2000\\n2005\\n2010\\n2015\\n2020\\n0.5\\n0.6\\n0.7\\n0.8\\n0.9\\n1.0\\nYear\\nextinction risk\\nIUCN Red List index of species survival\\nAmphibians\\nCycads\\nBirds\\nCorals\\nKey:\\nExtremes\\nMost likely value\\nMamals\\nThe Red List Index\\nProportion of species threatened with extinction in different taxonomic groups that are \\ncomprehensively assessed for the IUCN Red List. Species are grouped into classes (with \\nthe exception of reef-forming corals, which includes species from classes Hydrozoa and \\nAnthozoa), and are ordered according to the vertical dark red lines, which indicate the best \\nestimate for the proportion of extant species considered threatened, assuming that Data \\nDeficient species are equally as threatened as non-Data Deficient species. The numbers \\nto the right of each bar represent the total number of extant species assessed for each\", additional_kwargs={}, response_metadata={}, id='3c113821-e60c-4cd0-9388-6169e9b6d9fb'),\n",
       " HumanMessage(content=\"Quel est le niveau de danger de l'espèce Ailurus fulgens ?\", additional_kwargs={}, response_metadata={}, id='7e6afbb4-85cc-4423-a99f-a23aa5c9b6e2'),\n",
       " AIMessage(content='', additional_kwargs={'tool_calls': [{'id': 'call_0OOYCXJAwP7k7STgCt3mg6Gs', 'function': {'arguments': '{\"genus\":\"Ailurus\",\"species\":\"fulgens\"}', 'name': 'iucn_redlist_tool'}, 'type': 'function'}], 'refusal': None}, response_metadata={'token_usage': {'completion_tokens': 26, 'prompt_tokens': 1444, 'total_tokens': 1470, 'completion_tokens_details': {'accepted_prediction_tokens': 0, 'audio_tokens': 0, 'reasoning_tokens': 0, 'rejected_prediction_tokens': 0}, 'prompt_tokens_details': {'audio_tokens': 0, 'cached_tokens': 0}}, 'model_name': 'gpt-3.5-turbo-0125', 'system_fingerprint': None, 'finish_reason': 'tool_calls', 'logprobs': None}, id='run-4175032c-08e9-434a-bff4-ea74e6a8d1cd-0', tool_calls=[{'name': 'iucn_redlist_tool', 'args': {'genus': 'Ailurus', 'species': 'fulgens'}, 'id': 'call_0OOYCXJAwP7k7STgCt3mg6Gs', 'type': 'tool_call'}], usage_metadata={'input_tokens': 1444, 'output_tokens': 26, 'total_tokens': 1470, 'input_token_details': {'audio': 0, 'cache_read': 0}, 'output_token_details': {'audio': 0, 'reasoning': 0}}),\n",
       " ToolMessage(content='{\"Nom scientifique\": \"Ailurus fulgens\", \"Ordre\": \"CARNIVORA\", \"Classe\": \"MAMMALIA\", \"Royaume\": \"ANIMALIA\", \"Niveau de danger\": \"Endangered\", \"Tendance de la population\": \"Decreasing\", \"Habitat\": \"Red Panda is closely associated with montane forests (oak mixed; mixed broad-leaf conifer; and conifer) with dense bamboo-thicket understorey (Roberts and Gittleman 1984). Conifer/fir forests seem to be preferred (Yonzon and Hunter 1991). Habitats above the tree-line are probably not consistently occupied given that Red Panda is essentially arboreal (Choudhury 2001). A dead Red Panda at 4,325 m asl in Arunachal Pradesh, in an area where the species is not generally known and far from any typical Red Panda habitat, was presumably a dispersant (Dorjee et al. 2014).  Six studies reported that Red Panda prefers to live near (typically within 100–200 m of) water (e.g., Pradhan et al. 2001). Five indicated a preference for canopy cover above 30%, with some suggesting cover as high as 70–80% may be preferred. Three suggested a preference for slopes of below 45%. Several indicated a preference for slope aspect: most suggest avoidance of south-facing slopes in favour of the cooler climate of the north, northwest and northeast aspects (Yonzon and Hunter 1991, Pradhan\\xa0et al. 2001,\\xa0Mahato 2004,\\xa0Mallick 2010,\\xa0Jhoshi and Sangam 2011,\\xa0Subedi and Thapa 2011,\\xa0Dorji et al. 2012, Panthi\\xa0et al. 2012, Zhou et al. 2013, Sharma\\xa0et al. 2014). In the Sagamartha National Park, Red Panda was found on south-facing slopes in only one of six study areas, at lower density than at similar altitudes on north-facing slopes. In another area where both north- and south-facing slopes had otherwise similar habitat, Red Panda was found only on the north-facing slopes (Mahato 2004). Only in China have there been reports that Red Panda prefers south-facing slopes (e.g., Zhou et al. 2013). All studies investigating aspect took place in a similar altitude range. Also in China, in contrast to the rest of the range, steep slopes of more than 45% seemed preferred. Perhaps this relates to sympatry with Giant Panda Ailuropoda melanoleuca\\xa0(in the Minshan, Qionglai, Liangshan, Daxiangling and Xiaoxiangling ranges in western Sichuan; Wei et al. 1999a, 2000), which uses the more gentle slopes. Zhang et al. (2008) found that Red Panda prefers microhabitats with higher densities of fallen logs and tree stumps. Red Panda is largely vegetarian, eating chiefly young leaves and shoots of bamboo. It also takes fruit, roots, succulent grasses, acorns, lichens, birds\\' eggs and insects (Hodgson 1847, Sowerby 1932). It is largely arboreal (Hodgson 1847).  Gestation in captivity lasts 114–145 days (Northrop and Czekala 2011), suggesting a variable delay in embryo implantation. The animals breed once per year giving birth in the summer (late May to early August in northern hemisphere zoos). In captivity, litter sizes range from one to four, most commonly one to two; quadruplets are exceedingly rare. In the field, Yonzon and Hunter (1991) reported litters usually of singletons or twins. The young are sexually mature at 18 months and females can give birth for the first time around their second birthday. In captivity the generation length is around five to six years and its average longevity around 12–14 years. This slow reproductive rate and relatively long generation time are typical of a k-selected species, adapted to a stable environment and less capable of survival when that environment starts changing rapidly. \", \"Menaces\": \"Each of the three recent\\xa0Population and Habitat Viability Analyses (PHVAs)\\xa0listed the threats to Red Panda assessed to be most prevalent in their country/countries. Several problems occur throughout the species\\'s range, albeit with some variation in assessed impact. The major threats are habitat loss and fragmentation; habitat degradation; and physical threats. These are all compounded by the region\\'s increasing human population; climate change; natural disasters; inadequate enforcement of laws and regulations; mostly low political will and interest; political instability (in some regions); low coordination of stakeholders, funding and human resources; trans-boundary issues facilitating poaching, illegal collection of non-timber forest products, and Red Panda trade (skins and other body parts); and the movement of cattle herders/grazers during the breeding season.  Natural disasters include cyclones; landslides; floods; heavy snowfall and rainfall; bamboo flowering (which results in death of the plant and typically occurs synchronously across large areas); forest fires; poor regeneration of shelter trees; weed infestation and invasive alien species; and disease outbreaks. Although most of these have been in operation throughout Red Panda existence, their effects are increasingly severe as an ever-larger proportion of the distribution is outside contiguous habitat blocks\\xa0large enough\\xa0for recolonisation to occur post-disaster. In some areas, habitat is lost and degraded by commercial logging. In the Emaw Bum region of Myanmar more\\xa0than 5,000 km2 have been logged since 1999–2000, resulting in many new roads into mountain areas, e.g. between the May Hka river and the China border. These logging roads not only\\xa0destroy\\xa0habitat\\xa0directly, they also facilitate access for hunters and can destabilise the substrate. A recent video report from FFI shows two young Red Pandas crossing a landslide, the result of foreign road-building in the area.  As human populations grow, more people move into mountain regions to live. They clear land for habitation, bring domestic herds to roam in the forests where they trample and eat bamboo. Herders collect bamboo for fodder and other necessities. The herds are protected by dogs that attack pandas and, if not vaccinated, potentially carry canine distemper, fatal to Red Panda. The lack of annual vaccination in India, at least, leads to a high incidence of canine distemper in dogs of one to five years of age (Latha et al. 2007). Spillover of canine distemper into wild species is already well documented, such as to Indian Fox Vulpes bengalensis (Vanak et al. 2007) and Tiger Panthera tigris\\xa0(e.g. Goodrich et al. 2012).  Himalayan bamboos, the Red Panda’s dietary staple, are sensitive to environmental degradation, deforestation, fire and overgrazing (Stapleton 1996). Reduced canopy cover increases wind and water stress for the bamboo. In these situations, seedlings are destroyed by the harsh conditions coupled with grazing pressure.  Reports of Red Panda poaching and smuggling seem to be increasing, perhaps through demand in China.\\xa0F. Momberg (pers. comm. 2010)\\xa0saw Red Panda carcases and skins in\\xa0villagers\\'\\xa0homes in eastern Myanmar. One hunter allowed him to accompany him while he caught a Red Panda with his hands; apparently these villagers regularly take Red Pandas. Wildlife trade is rampant in Myanmar (about 30 tons of wildlife products per month), facilitated by wildlife habitat proximity to the Chinese border. Before Red Panda was upgraded to Appendix I of CITES in the early 1990s, individuals captured in Myanmar were traded by China to zoos around the world.\\xa0  Ang Phuri Sherpa (pers. comm. 2015) \\xa0reported an increase in illegal trade over the preceding three years, based on the number of poachers and traders caught in Nepal. These incidents mostly involved skins and the items were headed for China. One incident involved a live Red Panda. A general increase in interest in Red Panda skins and meat in China could fuel more trade. A US businessman reported Red Pandas on offer in a restaurant. In the \\'Threats\\' discussions during the 2012 Red Panda PHVA in China, many Chinese participants indicated that Red Panda meat was fairly widely available in restaurants, although no details are available. \\xa0  The live Red Panda trade, for pets, also seems to be increasing. Ian Lee (Chinese representative for Red Panda Network, pers. comm. 2015) found several reports in Chinese newspapers and social media of Red Pandas for sale as pets. This corroborates indications that Red Panda is increasing in popularity as a pet in China and other Asian countries, notably Thailand (YouTube videos and Instagram photos).  Ngwe Lwin (pers. comm. 2014) considers hunting and poaching the major threat to the Red Panda in Myanmar, in two ways: in one area, Red Panda is not a target species but is caught in iron traps, and some of skins are traded; in another, live Red Pandas are traded to China, motivating local people to go to catch them whenever they have time. \"}', name='iucn_redlist_tool', id='ebaa88ee-1ed1-465a-88f1-a14770330e2f', tool_call_id='call_0OOYCXJAwP7k7STgCt3mg6Gs'),\n",
       " AIMessage(content='L\\'espèce Ailurus fulgens, également connue sous le nom de Panda roux, est actuellement classée comme \"Endangered\" (En danger) sur la liste rouge de l\\'IUCN. Sa tendance de population est en diminution. Les principales menaces pour cette espèce comprennent la perte et la fragmentation de l\\'habitat, la dégradation de l\\'habitat, les menaces physiques, les catastrophes naturelles, le changement climatique, la chasse et le braconnage, ainsi que le commerce illégal de sa peau et de son corps. Ces menaces sont exacerbées par la croissance de la population humaine, le manque d\\'application des lois et des réglementations, le manque de coordination des parties prenantes et des ressources, et d\\'autres facteurs.', additional_kwargs={'refusal': None}, response_metadata={'token_usage': {'completion_tokens': 189, 'prompt_tokens': 3448, 'total_tokens': 3637, 'completion_tokens_details': {'accepted_prediction_tokens': 0, 'audio_tokens': 0, 'reasoning_tokens': 0, 'rejected_prediction_tokens': 0}, 'prompt_tokens_details': {'audio_tokens': 0, 'cached_tokens': 0}}, 'model_name': 'gpt-3.5-turbo-0125', 'system_fingerprint': None, 'finish_reason': 'stop', 'logprobs': None}, id='run-53081a9f-a380-408f-8f06-103d46693f53-0', usage_metadata={'input_tokens': 3448, 'output_tokens': 189, 'total_tokens': 3637, 'input_token_details': {'audio': 0, 'cache_read': 0}, 'output_token_details': {'audio': 0, 'reasoning': 0}}),\n",
       " SystemMessage(content=\"Use the following pieces of context and the tools at your disposition to answer the question at the end.\\nIf you don't know the answer, just say that you don't know.\\nUse five sentences maximum and keep the answer as concise as possible.\\nIngrid Weyland\\nUNION INTERNATIONALE POUR LA CONSERVATION DE LA NATURE\\nIntégrer la biodiversité dans les secteurs économiques prioritaires  \\nLeçons tirées de l’évaluation des principales menaces dans 16 pays \\npilotes BIODEV2030\\nSite-level tool for identifying \\nother effective area-based \\nconservation measures (OECMs)\\nIUCN WCPA Technical Report Series No 6\\nHarry D. Jonas, Kathy MacKinnon, Daniel Marnewick \\nand Pete Wood\\nFirst edition\\nSite-level tool for identifying other effective area-based conservation \\nmeasures (OECMs)\\n6\\nNATURE 2030 IN ACTION | PUBLICATIONS\\n73\\nIUCN ISBN publications released in 2023 with most online attention\\n43\\nIUCN | ANNUAL REPORT 2023\\n30\\n\\nINTERNATIONAL UNION FOR CONSERVATION OF NATURE\\n15\\nThese Altmetric Attention Scores were captured on 29 January 2024. The live Altmetric Attention Score for these \\npublications may fluctuate, and the most up-to-date data is available on the publication page.\\nThe IUCN Urban  \\nNature Indexes\\nMethodological framework and key indicators\\n9\\nThe IUCN Urban Nature Indexes  \\nMethodological framework and key indicators\\nA\\nINTÉGRER LA BIODIVERSITÉ DANS LES SECTEURS ÉCONOMIQUES PRIORITAIRES\\nIntégrer la biodiversité dans les \\nsecteurs économiques prioritaires\\nLeçons tirées de l’évaluation des principales \\nmenaces dans 16 pays pilotes BIODEV2030\\nAntonin Vergez\\nAvec des contributions d’Esther Bessis, Neil Cox, Florence Curet, Bousso Dramé, Devon Dublin,  \\nFrank Hawkins, Ben Jobson, Alice Maestracci, Laura Poyer, Philippe Puydarrieux, Mariana Saba,  \\nIngrid Weyland\\nUNION INTERNATIONALE POUR LA CONSERVATION DE LA NATURE\\nIntégrer la biodiversité dans les secteurs économiques prioritaires\\n\\nAT A GLANCE: THE UNION | COMMISSIONS\\nAT A GL ANCE  |  THE UNION\\nCommission on Ecosystem Management (CEM)\\nChair: Angela Andrade (second term)\\nPromoting ecosystem-based approaches for the management of landscapes and \\nseascapes \\n2023 HIGHLIGHTS\\nCEM’s role in classifying the Earth’s ecosystems \\nThe UN committee responsible for international statistical classifications adopted the \\nIUCN Global Ecosystem Typology (GET), acknowledging its solid scientific foundation, \\ncomprehensive scope and clear statistical framework. With its development led by CEM, \\nthe GET helps identify the ecosystems that are most critical for biodiversity conservation, \\nresearch, management and human well-being into the future. The relevance of the GET \\nwas highlighted during Earth Observation Day at COP28 as well as in the context of a new \\ninitiative with the Group on Earth Observations to create a Global Atlas of Ecosystems.  \\nSetting standards for ecosystem restoration\\n\\n6 Imperial College London, London, UK\\n7 BirdLife International, Cambridge, UK\\n8 Zoological Society of London, London, UK\\n9 CEFE, Univ. Montpellier, CNRS, EPHE, IRD, Univ. Paul Valéry Montpellier 3, Montpellier, France\\n10 Global Species Programme, IUCN (International Union for Conservation of Nature), Cambridge, UK\\n11 Grupo de Ecología y Conservación de Islas, A.C., Ensenada, Baja California, Mexico\\n12 Department of Integrated Sciences, University of Huelva, Huelva, Spain\\n13 South African National Biodiversity Institute, Pretoria, South Africa\\n14 Mammal Research Institute, University of Pretoria, Pretoria, South Africa\\n15 The Wildfowl & Wetlands Trust, UK\\n16 School of Life and Environmental Sciences, University of Sydney, Sydney, Australia\\n17 Threatened Species Recovery Hub, National Environmental Science Program, Brisbane, Australia\\n\\n26- Regional Office for Mexico, Central America and the \\nCaribbean (ORMACC) - San Jose, Costa Rica\\n27- Guatemala City, Guatemala\\n28- San Salvador, El Salvador\\n29- Tegucigalpa, Honduras\\nNORTH AMERICA\\n30- Regional Office for North America - Washington, D.C., USA\\nWEST AND CENTRAL AFRICA \\n31- West and Central Africa Regional Office (PACO) - Dakar, \\nSenegal \\n32- Bamako, Mali\\n33- Bissau, Guinea Bissau\\n34- Dakar, Senegal \\n35- Nouakchott, Mauritania\\n36- Ouagadougou, Burkina Faso\\n37- Yaoundé, Cameroon  \\nSOUTH AMERICA \\n38- South America Regional Office (SUR) - Quito, Ecuador\\n39- Brasilia, Brazil (Associaçao UICN Brasil) \\nOCEANIA \\n40- Oceania Regional Office (ORO) - Suva, Fiji \\nWEST ASIA \\n41- Regional Office for West Asia (ROWA) - Amman, Jordan\\nHEADQUARTERS AND OUTPOSTED OFFICES\\n42- IUCN headquarters, Gland, Switzerland\\n43- Outposted, Cambridge, United Kingdom\\nREPRESENTATIVE OFFICE\\n44- Permanent Observer Mission of IUCN to the United Nations, New \\nYork, N.Y., USA\\n\\n16\\n17\\nCatalysing Conservation Action\\nDirect conservation action is catalysed \\nby the IUCN Red List through:\\nA New Protected Area Planned for Beetles\\nIUCN’s Lemur SOS is a good example of \\nAssess-Plan-Act:\\nIn July 2012, the Lemur Red-listing and \\nConservation Planning Workshop took \\nplace in Madagascar. Twenty-eight priority \\nsites were chosen based on the number \\nof Critically Endangered and Endangered \\nspecies present, overall species richness, and \\nwhether they included species found only in \\na single location. This led to the IUCN Save \\nOur Species Lemurs initiative — a six-year \\nprogramme to provide grants to civil society \\norganisations in Madagascar to support the \\nconservation of lemurs. Through this initiative, \\nand thanks to the generous donation of a \\nGeneva-based private foundation, IUCN Save \\nOur Species has channelled close to 6 million \\nCHF to on-the-ground lemur conservation \\nprojects throughout Madagascar. Over the \\ncourse of three calls for proposals, IUCN\", additional_kwargs={}, response_metadata={}, id='95bf9786-07d9-4648-bd3f-ab2d7af1de0e'),\n",
       " HumanMessage(content='et quel est son ordre ?', additional_kwargs={}, response_metadata={}, id='fc7ff834-b38d-49c3-9138-36afd04d6560'),\n",
       " AIMessage(content=\"L'espèce Ailurus fulgens appartient à l'ordre CARNIVORA.\", additional_kwargs={'refusal': None}, response_metadata={'token_usage': {'completion_tokens': 23, 'prompt_tokens': 5091, 'total_tokens': 5114, 'completion_tokens_details': {'accepted_prediction_tokens': 0, 'audio_tokens': 0, 'reasoning_tokens': 0, 'rejected_prediction_tokens': 0}, 'prompt_tokens_details': {'audio_tokens': 0, 'cached_tokens': 0}}, 'model_name': 'gpt-3.5-turbo-0125', 'system_fingerprint': None, 'finish_reason': 'stop', 'logprobs': None}, id='run-cf5bbc6a-4fad-485c-bf71-68f3ea542723-0', usage_metadata={'input_tokens': 5091, 'output_tokens': 23, 'total_tokens': 5114, 'input_token_details': {'audio': 0, 'cache_read': 0}, 'output_token_details': {'audio': 0, 'reasoning': 0}}),\n",
       " SystemMessage(content=\"Use the following pieces of context and the tools at your disposition to answer the question at the end.\\nIf you don't know the answer, just say that you don't know.\\nUse five sentences maximum and keep the answer as concise as possible.\\nINTERNATIONAL UNION FOR CONSERVATION OF NATURE\\n15\\nThese Altmetric Attention Scores were captured on 29 January 2024. The live Altmetric Attention Score for these \\npublications may fluctuate, and the most up-to-date data is available on the publication page.\\nThe IUCN Urban  \\nNature Indexes\\nMethodological framework and key indicators\\n9\\nThe IUCN Urban Nature Indexes  \\nMethodological framework and key indicators\\nA\\nINTÉGRER LA BIODIVERSITÉ DANS LES SECTEURS ÉCONOMIQUES PRIORITAIRES\\nIntégrer la biodiversité dans les \\nsecteurs économiques prioritaires\\nLeçons tirées de l’évaluation des principales \\nmenaces dans 16 pays pilotes BIODEV2030\\nAntonin Vergez\\nAvec des contributions d’Esther Bessis, Neil Cox, Florence Curet, Bousso Dramé, Devon Dublin,  \\nFrank Hawkins, Ben Jobson, Alice Maestracci, Laura Poyer, Philippe Puydarrieux, Mariana Saba,  \\nIngrid Weyland\\nUNION INTERNATIONALE POUR LA CONSERVATION DE LA NATURE\\nIntégrer la biodiversité dans les secteurs économiques prioritaires\\n\\nOur Species has channelled close to 6 million \\nCHF to on-the-ground lemur conservation \\nprojects throughout Madagascar. Over the \\ncourse of three calls for proposals, IUCN \\nSave Our Species has been able to provide \\n52 grants to civil society organisations \\nin Madagascar. These are providing \\nconservation benefits to 50 lemur species \\nand subspecies (from a total of 113 currently \\ndescribed taxa) and their habitats, as well as \\nthe people who depend on them. As such, \\nthe SOS Lemurs initiative is making direct \\ncontributions to the implementation of 18 \\nsite-based action plans included in the Lemur \\nConservation Strategy 2013–2016. \\nScaly-footed snail and deep sea biodiversity\\nA scientific contribution to the journal Nature \\nhighlighted that ‘Red Listing can protect \\ndeep-sea biodiversity’. The Scaly-foot Snail \\n(Chrysomallon squamiferum) was the first \\nspecies endemic to deep-sea hydrothermal \\nvents on the IUCN Red List of Threatened \\nSpecies and the first animal to be listed as\\n\\nAsking who, rather than what, counts for \\nbiodiversity    \\nA participatory 3D modelling approach \\nwas applied during a five-day exercise, \\nled by IUCN’s Regional Office for West \\nAsia, in the Saudi Arabian oasis city of \\nAlUla in October 2023. Women, men, \\nrangers and chiefs of tribes all provided \\ninput on a 3D model of the Harrat Uwayrid \\nNature Reserve, capturing profound local \\nknowledge about species, natural and \\ncultural values, and ecosystem services. \\nA parallel Youth Media and Storytelling \\nworkshop trained 15 boys and 18 girls in \\nwritten storytelling, interviewing and cellphone photography, with field visits to local \\nheritage and natural sites to put these techniques into practice. These two activities \\nhighlighted the effective partnership between IUCN and the Royal Commission of AlUla, \\nemphasising community participation and knowledge integration in the management of \\nprotected areas, contributing to both AlUla’s development and Saudi Arabia’s Vision 2030.\\n\\nIngrid Weyland\\nUNION INTERNATIONALE POUR LA CONSERVATION DE LA NATURE\\nIntégrer la biodiversité dans les secteurs économiques prioritaires  \\nLeçons tirées de l’évaluation des principales menaces dans 16 pays \\npilotes BIODEV2030\\nSite-level tool for identifying \\nother effective area-based \\nconservation measures (OECMs)\\nIUCN WCPA Technical Report Series No 6\\nHarry D. Jonas, Kathy MacKinnon, Daniel Marnewick \\nand Pete Wood\\nFirst edition\\nSite-level tool for identifying other effective area-based conservation \\nmeasures (OECMs)\\n6\\nNATURE 2030 IN ACTION | PUBLICATIONS\\n73\\nIUCN ISBN publications released in 2023 with most online attention\\n43\\nIUCN | ANNUAL REPORT 2023\\n30\\n\\nrestore important biodiversity.\\nIUCN Framework Partners meeting in Rwanda © IUCN / Jean \\nClaude Habimana \\nDENMARK\\n\\t\\x83 MINISTRY OF FOREIGN AFFAIRS \\nFINLAND\\n\\t\\x83 MINISTRY FOR FOREIGN AFFAIRS \\nFRANCE\\n\\t\\x83 FRENCH DEVELOPMENT AGENCY\\n\\t\\x83 MINISTRY FOR THE ECOLOGICAL AND \\nINCLUSIVE TRANSITION\\n\\t\\x83 MINISTRY FOR EUROPE AND FOREIGN AFFAIRS\\n\\t\\x83 MINISTRY FOR OVERSEAS FRANCE\\n\\t\\x83 MINISTRY FOR AGRICULTURE AND FOOD \\nREPUBLIC OF KOREA  \\n\\t\\x83 MINISTRY OF ENVIRONMENT \\nSWEDEN   \\n\\t\\x83 SWEDISH INTERNATIONAL DEVELOPMENT COOPERATION AGENCY (Sida) \\nLUXEMBOURG   \\n\\t\\x83 MINISTRY FOR THE ENVIRONMENT, CLIMATE CHANGE AND SUSTAINABLE DEVELOPMENT\\nSWITZERLAND    \\n\\t\\x83 SWISS AGENCY FOR DEVELOPMENT AND COOPERATION (SDC) \\nNORWAY    \\n\\t\\x83 NORWEGIAN AGENCY FOR DEVELOPMENT COOPERATION (Norad)\\nUSA    \\n\\t\\x83 DEPARTMENT OF STATE\\nSTRATEGIC PARTN ERSH I PS \\nSTRATEGIC PARTNERSHIPS \\nPATRONS OF NATURE\\nI U C N\\nIUCN | ANNUAL REPORT 2023\\n54\\n\\n© IUCN / Juan Carlos Huayllapuma \\nPORTFOLIO \\nVALUE AT \\nEND OF 2023\\nCHF185\\nMILLION\\nNATURE 2030 I N ACTION  \\nNATURE 2030 IN ACTION | PROGRAMME PORTFOLIO 2023 | PEOPLE\\nHighlights\\nIUCN | ANNUAL REPORT 2023\\n41\", additional_kwargs={}, response_metadata={}, id='2bdab584-5fd9-408c-8360-34ceb0aaf7fe'),\n",
       " HumanMessage(content='et sa famille ?', additional_kwargs={}, response_metadata={}, id='4dd7a25c-b0cd-42ee-892d-faf496e1f854'),\n",
       " AIMessage(content=\"L'espèce Ailurus fulgens, également connue sous le nom de Panda roux, appartient à la famille Ailuridae.\", additional_kwargs={'refusal': None}, response_metadata={'token_usage': {'completion_tokens': 34, 'prompt_tokens': 6460, 'total_tokens': 6494, 'completion_tokens_details': {'accepted_prediction_tokens': 0, 'audio_tokens': 0, 'reasoning_tokens': 0, 'rejected_prediction_tokens': 0}, 'prompt_tokens_details': {'audio_tokens': 0, 'cached_tokens': 0}}, 'model_name': 'gpt-3.5-turbo-0125', 'system_fingerprint': None, 'finish_reason': 'stop', 'logprobs': None}, id='run-9ef0a0f8-9c38-4ebd-9861-1aff9e9171d9-0', usage_metadata={'input_tokens': 6460, 'output_tokens': 34, 'total_tokens': 6494, 'input_token_details': {'audio': 0, 'cache_read': 0}, 'output_token_details': {'audio': 0, 'reasoning': 0}}),\n",
       " SystemMessage(content=\"Use the following pieces of context and the tools at your disposition to answer the question at the end.\\nIf you don't know the answer, just say that you don't know.\\nUse five sentences maximum and keep the answer as concise as possible.\\nIngrid Weyland\\nUNION INTERNATIONALE POUR LA CONSERVATION DE LA NATURE\\nIntégrer la biodiversité dans les secteurs économiques prioritaires  \\nLeçons tirées de l’évaluation des principales menaces dans 16 pays \\npilotes BIODEV2030\\nSite-level tool for identifying \\nother effective area-based \\nconservation measures (OECMs)\\nIUCN WCPA Technical Report Series No 6\\nHarry D. Jonas, Kathy MacKinnon, Daniel Marnewick \\nand Pete Wood\\nFirst edition\\nSite-level tool for identifying other effective area-based conservation \\nmeasures (OECMs)\\n6\\nNATURE 2030 IN ACTION | PUBLICATIONS\\n73\\nIUCN ISBN publications released in 2023 with most online attention\\n43\\nIUCN | ANNUAL REPORT 2023\\n30\\n\\n•\\t\\nInternational Finance Corporation: \\nThe International Finance Corporation \\n(IFC), a member of the World Bank \\nGroup, uses IBAT to screen for \\nbiodiversity risks and critical habitat \\nvalues in project locations globally as \\npart of its environmental due diligence. \\nData and metrics derived from the IUCN Red \\nList were used by a number of the globally \\nrecognised online platforms to support \\ndecision making by governments, civil \\nsociety and the private sector. Red List data \\nare downloaded, or accessed directly, from \\nthe IUCN Red List website in accordance \\nwith the Terms of Use. \\nGlobal Forest Watch’s map layer \\n‘Global Biodiversity Significance’\\nUN Biodiversity Labs\\nNaturemaps\\nGlobal Biodiversity Information Facility\\nAmazing Species: Tucuxi\\nThe Tucuxi (Sotalia fluviatilis) is a freshwater dolphin species that lives in the Amazon \\nRiver system in Brazil, Colombia, Ecuador and Peru.\\nThese small grey dolphins are usually found in small groups of up to around 6 individuals.\\n\\ncap” companies, with a market capitalization \\nof over US$10 billion each. IBAT also \\nplays a crucial role in the financial sector, \\nhelping organisations to screen potential \\ninvestments for biodiversity risks. \\nIBAT is currently used by 11 Public \\nDevelopment Banks, who together finance \\nover US$330 billion annually of direct \\ninvestments across the globe. IBAT currently \\nhas 99 commercial users that access the \\ndata, tools and reports through subscription \\nor pay-as-you-go services. \\nA third of the income generated for \\ninvestment into the three under-lying \\ndatasets supports activities that maintain \\nthe IUCN Red List.\\nExamples:\\n•\\t\\nInternational Olympic Committee: \\nThe IOC uses IBAT as a key tool during \\nthe initial dialogue with cities interested \\nin hosting the Olympic Games. \\n•\\t\\nInternational Finance Corporation: \\nThe International Finance Corporation \\n(IFC), a member of the World Bank \\nGroup, uses IBAT to screen for \\nbiodiversity risks and critical habitat\\n\\nINTERNATIONAL UNION FOR CONSERVATION OF NATURE\\n15\\nThese Altmetric Attention Scores were captured on 29 January 2024. The live Altmetric Attention Score for these \\npublications may fluctuate, and the most up-to-date data is available on the publication page.\\nThe IUCN Urban  \\nNature Indexes\\nMethodological framework and key indicators\\n9\\nThe IUCN Urban Nature Indexes  \\nMethodological framework and key indicators\\nA\\nINTÉGRER LA BIODIVERSITÉ DANS LES SECTEURS ÉCONOMIQUES PRIORITAIRES\\nIntégrer la biodiversité dans les \\nsecteurs économiques prioritaires\\nLeçons tirées de l’évaluation des principales \\nmenaces dans 16 pays pilotes BIODEV2030\\nAntonin Vergez\\nAvec des contributions d’Esther Bessis, Neil Cox, Florence Curet, Bousso Dramé, Devon Dublin,  \\nFrank Hawkins, Ben Jobson, Alice Maestracci, Laura Poyer, Philippe Puydarrieux, Mariana Saba,  \\nIngrid Weyland\\nUNION INTERNATIONALE POUR LA CONSERVATION DE LA NATURE\\nIntégrer la biodiversité dans les secteurs économiques prioritaires\\n\\n14\\n15\\nUsage of the IUCN Red List website remains very high with users responding well \\nto the new version launched in 2019 and the many improvements in functionality.\\nThe IUCN Red List has \\nusers in every single \\ncountry of the world\\n28 million website \\nsessions\\n(average 7 million per year)\\n81.5 million page views \\n(average 20 million per year)\\n190 million species maps \\ndownloaded\\n(average 47.6 million per year)\\n16.2 million unique visitors\\n (average 4 million per year)\\n38,822 assessment \\ndata downloads\\n(average 9,700 per year)\\n189,458 individual \\nspatial data downloads \\n(average 47,364 per year)\\n\\nnational and continent-wide levels. \\nGeographical range\\niucnredlist.org | 2021\\nThe IUCN Red List of \\nThreatened Species™  \\nis made possible through the  \\nRed List Partnership with the \\nsupport of the IUCN-Toyota  \\nRed List Partnership.\\nAmazing Species  \\nis sponsored by\\nPhoto © Fernando Trujillo\", additional_kwargs={}, response_metadata={}, id='02346926-2ae7-4877-8580-8691d31a9758'),\n",
       " HumanMessage(content='quels sont ses noms communéments utilisés ?', additional_kwargs={}, response_metadata={}, id='a99f8a96-bdc1-4338-8d94-5c35038123a4'),\n",
       " AIMessage(content='', additional_kwargs={'tool_calls': [{'id': 'call_P18KTtvrHEXc8nbkxnJbdnF8', 'function': {'arguments': '{\"genus\":\"Ailurus\",\"species\":\"fulgens\"}', 'name': 'iucn_redlist_tool'}, 'type': 'function'}], 'refusal': None}, response_metadata={'token_usage': {'completion_tokens': 26, 'prompt_tokens': 7682, 'total_tokens': 7708, 'completion_tokens_details': {'accepted_prediction_tokens': 0, 'audio_tokens': 0, 'reasoning_tokens': 0, 'rejected_prediction_tokens': 0}, 'prompt_tokens_details': {'audio_tokens': 0, 'cached_tokens': 0}}, 'model_name': 'gpt-3.5-turbo-0125', 'system_fingerprint': None, 'finish_reason': 'tool_calls', 'logprobs': None}, id='run-4e44f023-e0b0-4317-adc6-97eeaef90c4e-0', tool_calls=[{'name': 'iucn_redlist_tool', 'args': {'genus': 'Ailurus', 'species': 'fulgens'}, 'id': 'call_P18KTtvrHEXc8nbkxnJbdnF8', 'type': 'tool_call'}], usage_metadata={'input_tokens': 7682, 'output_tokens': 26, 'total_tokens': 7708, 'input_token_details': {'audio': 0, 'cache_read': 0}, 'output_token_details': {'audio': 0, 'reasoning': 0}}),\n",
       " ToolMessage(content='{\"assessment_id\": 110023718, \"Nom scientifique\": \"Ailurus fulgens\", \"Ordre\": \"CARNIVORA\", \"Classe\": \"MAMMALIA\", \"Royaume\": \"ANIMALIA\", \"Niveau de danger\": \"Endangered\", \"Tendance de la population\": \"Decreasing\", \"Habitat\": \"Red Panda is closely associated with montane forests (oak mixed; mixed broad-leaf conifer; and conifer) with dense bamboo-thicket understorey (Roberts and Gittleman 1984). Conifer/fir forests seem to be preferred (Yonzon and Hunter 1991). Habitats above the tree-line are probably not consistently occupied given that Red Panda is essentially arboreal (Choudhury 2001). A dead Red Panda at 4,325 m asl in Arunachal Pradesh, in an area where the species is not generally known and far from any typical Red Panda habitat, was presumably a dispersant (Dorjee et al. 2014).  Six studies reported that Red Panda prefers to live near (typically within 100–200 m of) water (e.g., Pradhan et al. 2001). Five indicated a preference for canopy cover above 30%, with some suggesting cover as high as 70–80% may be preferred. Three suggested a preference for slopes of below 45%. Several indicated a preference for slope aspect: most suggest avoidance of south-facing slopes in favour of the cooler climate of the north, northwest and northeast aspects (Yonzon and Hunter 1991, Pradhan\\xa0et al. 2001,\\xa0Mahato 2004,\\xa0Mallick 2010,\\xa0Jhoshi and Sangam 2011,\\xa0Subedi and Thapa 2011,\\xa0Dorji et al. 2012, Panthi\\xa0et al. 2012, Zhou et al. 2013, Sharma\\xa0et al. 2014). In the Sagamartha National Park, Red Panda was found on south-facing slopes in only one of six study areas, at lower density than at similar altitudes on north-facing slopes. In another area where both north- and south-facing slopes had otherwise similar habitat, Red Panda was found only on the north-facing slopes (Mahato 2004). Only in China have there been reports that Red Panda prefers south-facing slopes (e.g., Zhou et al. 2013). All studies investigating aspect took place in a similar altitude range. Also in China, in contrast to the rest of the range, steep slopes of more than 45% seemed preferred. Perhaps this relates to sympatry with Giant Panda Ailuropoda melanoleuca\\xa0(in the Minshan, Qionglai, Liangshan, Daxiangling and Xiaoxiangling ranges in western Sichuan; Wei et al. 1999a, 2000), which uses the more gentle slopes. Zhang et al. (2008) found that Red Panda prefers microhabitats with higher densities of fallen logs and tree stumps. Red Panda is largely vegetarian, eating chiefly young leaves and shoots of bamboo. It also takes fruit, roots, succulent grasses, acorns, lichens, birds\\' eggs and insects (Hodgson 1847, Sowerby 1932). It is largely arboreal (Hodgson 1847).  Gestation in captivity lasts 114–145 days (Northrop and Czekala 2011), suggesting a variable delay in embryo implantation. The animals breed once per year giving birth in the summer (late May to early August in northern hemisphere zoos). In captivity, litter sizes range from one to four, most commonly one to two; quadruplets are exceedingly rare. In the field, Yonzon and Hunter (1991) reported litters usually of singletons or twins. The young are sexually mature at 18 months and females can give birth for the first time around their second birthday. In captivity the generation length is around five to six years and its average longevity around 12–14 years. This slow reproductive rate and relatively long generation time are typical of a k-selected species, adapted to a stable environment and less capable of survival when that environment starts changing rapidly. \", \"Menaces\": \"Each of the three recent\\xa0Population and Habitat Viability Analyses (PHVAs)\\xa0listed the threats to Red Panda assessed to be most prevalent in their country/countries. Several problems occur throughout the species\\'s range, albeit with some variation in assessed impact. The major threats are habitat loss and fragmentation; habitat degradation; and physical threats. These are all compounded by the region\\'s increasing human population; climate change; natural disasters; inadequate enforcement of laws and regulations; mostly low political will and interest; political instability (in some regions); low coordination of stakeholders, funding and human resources; trans-boundary issues facilitating poaching, illegal collection of non-timber forest products, and Red Panda trade (skins and other body parts); and the movement of cattle herders/grazers during the breeding season.  Natural disasters include cyclones; landslides; floods; heavy snowfall and rainfall; bamboo flowering (which results in death of the plant and typically occurs synchronously across large areas); forest fires; poor regeneration of shelter trees; weed infestation and invasive alien species; and disease outbreaks. Although most of these have been in operation throughout Red Panda existence, their effects are increasingly severe as an ever-larger proportion of the distribution is outside contiguous habitat blocks\\xa0large enough\\xa0for recolonisation to occur post-disaster. In some areas, habitat is lost and degraded by commercial logging. In the Emaw Bum region of Myanmar more\\xa0than 5,000 km2 have been logged since 1999–2000, resulting in many new roads into mountain areas, e.g. between the May Hka river and the China border. These logging roads not only\\xa0destroy\\xa0habitat\\xa0directly, they also facilitate access for hunters and can destabilise the substrate. A recent video report from FFI shows two young Red Pandas crossing a landslide, the result of foreign road-building in the area.  As human populations grow, more people move into mountain regions to live. They clear land for habitation, bring domestic herds to roam in the forests where they trample and eat bamboo. Herders collect bamboo for fodder and other necessities. The herds are protected by dogs that attack pandas and, if not vaccinated, potentially carry canine distemper, fatal to Red Panda. The lack of annual vaccination in India, at least, leads to a high incidence of canine distemper in dogs of one to five years of age (Latha et al. 2007). Spillover of canine distemper into wild species is already well documented, such as to Indian Fox Vulpes bengalensis (Vanak et al. 2007) and Tiger Panthera tigris\\xa0(e.g. Goodrich et al. 2012).  Himalayan bamboos, the Red Panda’s dietary staple, are sensitive to environmental degradation, deforestation, fire and overgrazing (Stapleton 1996). Reduced canopy cover increases wind and water stress for the bamboo. In these situations, seedlings are destroyed by the harsh conditions coupled with grazing pressure.  Reports of Red Panda poaching and smuggling seem to be increasing, perhaps through demand in China.\\xa0F. Momberg (pers. comm. 2010)\\xa0saw Red Panda carcases and skins in\\xa0villagers\\'\\xa0homes in eastern Myanmar. One hunter allowed him to accompany him while he caught a Red Panda with his hands; apparently these villagers regularly take Red Pandas. Wildlife trade is rampant in Myanmar (about 30 tons of wildlife products per month), facilitated by wildlife habitat proximity to the Chinese border. Before Red Panda was upgraded to Appendix I of CITES in the early 1990s, individuals captured in Myanmar were traded by China to zoos around the world.\\xa0  Ang Phuri Sherpa (pers. comm. 2015) \\xa0reported an increase in illegal trade over the preceding three years, based on the number of poachers and traders caught in Nepal. These incidents mostly involved skins and the items were headed for China. One incident involved a live Red Panda. A general increase in interest in Red Panda skins and meat in China could fuel more trade. A US businessman reported Red Pandas on offer in a restaurant. In the \\'Threats\\' discussions during the 2012 Red Panda PHVA in China, many Chinese participants indicated that Red Panda meat was fairly widely available in restaurants, although no details are available. \\xa0  The live Red Panda trade, for pets, also seems to be increasing. Ian Lee (Chinese representative for Red Panda Network, pers. comm. 2015) found several reports in Chinese newspapers and social media of Red Pandas for sale as pets. This corroborates indications that Red Panda is increasing in popularity as a pet in China and other Asian countries, notably Thailand (YouTube videos and Instagram photos).  Ngwe Lwin (pers. comm. 2014) considers hunting and poaching the major threat to the Red Panda in Myanmar, in two ways: in one area, Red Panda is not a target species but is caught in iron traps, and some of skins are traded; in another, live Red Pandas are traded to China, motivating local people to go to catch them whenever they have time. \"}', name='iucn_redlist_tool', id='6722bff2-415f-426e-b7bd-2b57f0ccc78e', tool_call_id='call_P18KTtvrHEXc8nbkxnJbdnF8'),\n",
       " AIMessage(content='Les noms communs couramment utilisés pour l\\'espèce Ailurus fulgens sont le \"Panda roux\" ou le \"Renard de feu\".', additional_kwargs={'refusal': None}, response_metadata={'token_usage': {'completion_tokens': 37, 'prompt_tokens': 9695, 'total_tokens': 9732, 'completion_tokens_details': {'accepted_prediction_tokens': 0, 'audio_tokens': 0, 'reasoning_tokens': 0, 'rejected_prediction_tokens': 0}, 'prompt_tokens_details': {'audio_tokens': 0, 'cached_tokens': 0}}, 'model_name': 'gpt-3.5-turbo-0125', 'system_fingerprint': None, 'finish_reason': 'stop', 'logprobs': None}, id='run-64670b43-bd19-4f1b-9b4f-180e5fec05e6-0', usage_metadata={'input_tokens': 9695, 'output_tokens': 37, 'total_tokens': 9732, 'input_token_details': {'audio': 0, 'cache_read': 0}, 'output_token_details': {'audio': 0, 'reasoning': 0}})]"
      ]
     },
     "execution_count": 124,
     "metadata": {},
     "output_type": "execute_result"
    }
   ],
   "source": [
    "from langchain_core.messages import HumanMessage, SystemMessage\n",
    "import textwrap\n",
    "from langchain_core.runnables import RunnablePassthrough\n",
    "from langchain import hub\n",
    "from langchain_core.prompts import PromptTemplate\n",
    "load_dotenv()\n",
    "\n",
    "Q = \"quel est le déclin moyen des populations d'animaux sauvages ?\"\n",
    "\n",
    "template = \"\"\"Use the following pieces of context and the tools at your disposition to answer the question at the end.\n",
    "If you don't know the answer, just say that you don't know.\n",
    "Use five sentences maximum and keep the answer as concise as possible.\n",
    "{context}\"\"\"\n",
    "# prompt = hub.pull(\"rlm/rag-prompt\")\n",
    "# custom_rag_prompt = PromptTemplate.from_template(template)\n",
    "prompt_template = ChatPromptTemplate.from_messages(\n",
    "    [(\"system\", template), (\"user\", \"{question}\" )]\n",
    ")\n",
    "\n",
    "def format_docs(docs):\n",
    "    return \"\\n\\n\".join(doc.page_content for doc in docs)\n",
    "\n",
    "\n",
    "chain =  {\"context\": retriever | format_docs, \"question\": RunnablePassthrough()} | prompt_template | agent_executor \n",
    "\n",
    "Input = input(\"avez-vous des Questions ?\")\n",
    "@traceable\n",
    "def process(user_input: str):\n",
    "    response = chain.invoke(user_input,config)\n",
    "    final_content = response[\"messages\"][-1].content\n",
    "    answer= textwrap.fill(final_content,width=100)\n",
    "    print(answer)\n",
    "    return response['messages'] \n",
    "\n",
    "process(Input)"
   ]
  },
  {
   "cell_type": "code",
   "execution_count": null,
   "metadata": {},
   "outputs": [
    {
     "name": "stdout",
     "output_type": "stream",
     "text": [
      "Assessment ID pour Ailurus fulgens : 110023718\n",
      "Nom scientifique : Ailurus fulgens\n",
      "Ordre : CARNIVORA\n",
      "Classe : MAMMALIA\n",
      "Royaume : ANIMALIA\n",
      "Niveau de danger : Endangered\n",
      "Tendance de la population : Decreasing\n",
      "Habitat : Red Panda is closely associated with montane forests (oak mixed; mixed broad-leaf conifer; and conifer) with dense bamboo-thicket understorey (Roberts and Gittleman 1984). Conifer/fir forests seem to be preferred (Yonzon and Hunter 1991). Habitats above the tree-line are probably not consistently occupied given that Red Panda is essentially arboreal (Choudhury 2001). A dead Red Panda at 4,325 m asl in Arunachal Pradesh, in an area where the species is not generally known and far from any typical Red Panda habitat, was presumably a dispersant (Dorjee et al. 2014).  Six studies reported that Red Panda prefers to live near (typically within 100–200 m of) water (e.g., Pradhan et al. 2001). Five indicated a preference for canopy cover above 30%, with some suggesting cover as high as 70–80% may be preferred. Three suggested a preference for slopes of below 45%. Several indicated a preference for slope aspect: most suggest avoidance of south-facing slopes in favour of the cooler climate of the north, northwest and northeast aspects (Yonzon and Hunter 1991, Pradhan et al. 2001, Mahato 2004, Mallick 2010, Jhoshi and Sangam 2011, Subedi and Thapa 2011, Dorji et al. 2012, Panthi et al. 2012, Zhou et al. 2013, Sharma et al. 2014). In the Sagamartha National Park, Red Panda was found on south-facing slopes in only one of six study areas, at lower density than at similar altitudes on north-facing slopes. In another area where both north- and south-facing slopes had otherwise similar habitat, Red Panda was found only on the north-facing slopes (Mahato 2004). Only in China have there been reports that Red Panda prefers south-facing slopes (e.g., Zhou et al. 2013). All studies investigating aspect took place in a similar altitude range. Also in China, in contrast to the rest of the range, steep slopes of more than 45% seemed preferred. Perhaps this relates to sympatry with Giant Panda Ailuropoda melanoleuca (in the Minshan, Qionglai, Liangshan, Daxiangling and Xiaoxiangling ranges in western Sichuan; Wei et al. 1999a, 2000), which uses the more gentle slopes. Zhang et al. (2008) found that Red Panda prefers microhabitats with higher densities of fallen logs and tree stumps. Red Panda is largely vegetarian, eating chiefly young leaves and shoots of bamboo. It also takes fruit, roots, succulent grasses, acorns, lichens, birds' eggs and insects (Hodgson 1847, Sowerby 1932). It is largely arboreal (Hodgson 1847).  Gestation in captivity lasts 114–145 days (Northrop and Czekala 2011), suggesting a variable delay in embryo implantation. The animals breed once per year giving birth in the summer (late May to early August in northern hemisphere zoos). In captivity, litter sizes range from one to four, most commonly one to two; quadruplets are exceedingly rare. In the field, Yonzon and Hunter (1991) reported litters usually of singletons or twins. The young are sexually mature at 18 months and females can give birth for the first time around their second birthday. In captivity the generation length is around five to six years and its average longevity around 12–14 years. This slow reproductive rate and relatively long generation time are typical of a k-selected species, adapted to a stable environment and less capable of survival when that environment starts changing rapidly. \n",
      "Menaces : Each of the three recent Population and Habitat Viability Analyses (PHVAs) listed the threats to Red Panda assessed to be most prevalent in their country/countries. Several problems occur throughout the species's range, albeit with some variation in assessed impact. The major threats are habitat loss and fragmentation; habitat degradation; and physical threats. These are all compounded by the region's increasing human population; climate change; natural disasters; inadequate enforcement of laws and regulations; mostly low political will and interest; political instability (in some regions); low coordination of stakeholders, funding and human resources; trans-boundary issues facilitating poaching, illegal collection of non-timber forest products, and Red Panda trade (skins and other body parts); and the movement of cattle herders/grazers during the breeding season.  Natural disasters include cyclones; landslides; floods; heavy snowfall and rainfall; bamboo flowering (which results in death of the plant and typically occurs synchronously across large areas); forest fires; poor regeneration of shelter trees; weed infestation and invasive alien species; and disease outbreaks. Although most of these have been in operation throughout Red Panda existence, their effects are increasingly severe as an ever-larger proportion of the distribution is outside contiguous habitat blocks large enough for recolonisation to occur post-disaster. In some areas, habitat is lost and degraded by commercial logging. In the Emaw Bum region of Myanmar more than 5,000 km2 have been logged since 1999–2000, resulting in many new roads into mountain areas, e.g. between the May Hka river and the China border. These logging roads not only destroy habitat directly, they also facilitate access for hunters and can destabilise the substrate. A recent video report from FFI shows two young Red Pandas crossing a landslide, the result of foreign road-building in the area.  As human populations grow, more people move into mountain regions to live. They clear land for habitation, bring domestic herds to roam in the forests where they trample and eat bamboo. Herders collect bamboo for fodder and other necessities. The herds are protected by dogs that attack pandas and, if not vaccinated, potentially carry canine distemper, fatal to Red Panda. The lack of annual vaccination in India, at least, leads to a high incidence of canine distemper in dogs of one to five years of age (Latha et al. 2007). Spillover of canine distemper into wild species is already well documented, such as to Indian Fox Vulpes bengalensis (Vanak et al. 2007) and Tiger Panthera tigris (e.g. Goodrich et al. 2012).  Himalayan bamboos, the Red Panda’s dietary staple, are sensitive to environmental degradation, deforestation, fire and overgrazing (Stapleton 1996). Reduced canopy cover increases wind and water stress for the bamboo. In these situations, seedlings are destroyed by the harsh conditions coupled with grazing pressure.  Reports of Red Panda poaching and smuggling seem to be increasing, perhaps through demand in China. F. Momberg (pers. comm. 2010) saw Red Panda carcases and skins in villagers' homes in eastern Myanmar. One hunter allowed him to accompany him while he caught a Red Panda with his hands; apparently these villagers regularly take Red Pandas. Wildlife trade is rampant in Myanmar (about 30 tons of wildlife products per month), facilitated by wildlife habitat proximity to the Chinese border. Before Red Panda was upgraded to Appendix I of CITES in the early 1990s, individuals captured in Myanmar were traded by China to zoos around the world.   Ang Phuri Sherpa (pers. comm. 2015)  reported an increase in illegal trade over the preceding three years, based on the number of poachers and traders caught in Nepal. These incidents mostly involved skins and the items were headed for China. One incident involved a live Red Panda. A general increase in interest in Red Panda skins and meat in China could fuel more trade. A US businessman reported Red Pandas on offer in a restaurant. In the 'Threats' discussions during the 2012 Red Panda PHVA in China, many Chinese participants indicated that Red Panda meat was fairly widely available in restaurants, although no details are available.    The live Red Panda trade, for pets, also seems to be increasing. Ian Lee (Chinese representative for Red Panda Network, pers. comm. 2015) found several reports in Chinese newspapers and social media of Red Pandas for sale as pets. This corroborates indications that Red Panda is increasing in popularity as a pet in China and other Asian countries, notably Thailand (YouTube videos and Instagram photos).  Ngwe Lwin (pers. comm. 2014) considers hunting and poaching the major threat to the Red Panda in Myanmar, in two ways: in one area, Red Panda is not a target species but is caught in iron traps, and some of skins are traded; in another, live Red Pandas are traded to China, motivating local people to go to catch them whenever they have time. \n"
     ]
    }
   ],
   "source": [
    "# import http.client\n",
    "# import json\n",
    "# from bs4 import BeautifulSoup\n",
    "\n",
    "# # Paramètres : Remplacer par votre propre genus, species et assessment_id\n",
    "# genus = \"Ailurus\"\n",
    "# species = \"fulgens\"\n",
    "# token = \"ct5nfRuiaAzSPBdHWRcn1rFXi2F6stGSz6uD\"\n",
    "\n",
    "# # Étape 1 : Récupérer l'assessment_id\n",
    "# conn = http.client.HTTPSConnection(\"api.iucnredlist.org\")\n",
    "# payload = ''\n",
    "# headers = {\n",
    "#     'Authorization': token\n",
    "# }\n",
    "\n",
    "# # Faire une requête pour obtenir l'assessment_id\n",
    "# conn.request(\"GET\", f\"/api/v4/taxa/scientific_name?genus_name={genus}&species_name={species}\", payload, headers)\n",
    "# res = conn.getresponse()\n",
    "# data = res.read()\n",
    "# json_data = data.decode(\"utf-8\")\n",
    "# parsed_data = json.loads(json_data)\n",
    "\n",
    "# # Récupérer l'assessment_id\n",
    "# assessment_id = parsed_data[\"assessments\"][0][\"assessment_id\"]\n",
    "# print(f\"Assessment ID pour {genus} {species} : {assessment_id}\")\n",
    "\n",
    "# # Étape 2 : Utiliser l'assessment_id pour récupérer les détails\n",
    "# conn.request(\"GET\", f\"/api/v4/assessment/{assessment_id}\", payload, headers)\n",
    "# res = conn.getresponse()\n",
    "# data = res.read()\n",
    "# json_data = data.decode(\"utf-8\")\n",
    "# parsed_data = json.loads(json_data)\n",
    "\n",
    "# # Afficher les détails de l'espèce\n",
    "# if \"taxon\" in parsed_data:\n",
    "#     result = parsed_data[\"taxon\"]\n",
    "#     racine = parsed_data\n",
    "#     print(f\"Nom scientifique : {result['scientific_name']}\")\n",
    "#     print(f\"Ordre : {result['order_name']}\")\n",
    "#     print(f\"Classe : {result['class_name']}\")\n",
    "#     print(f\"Royaume : {result['kingdom_name']}\")\n",
    "#     print(f\"Niveau de danger : {racine['red_list_category']['description']['en']}\")\n",
    "#     print(f\"Tendance de la population : {racine['population_trend']['description']['en']}\")\n",
    "#     habitats = racine['documentation']['habitats']\n",
    "#     soup = BeautifulSoup(habitats, \"html.parser\")\n",
    "#     cleaned_habitats = soup.get_text()\n",
    "#     print(f\"Habitat : {cleaned_habitats}\")\n",
    "#     threats = racine['documentation']['threats']\n",
    "#     soup = BeautifulSoup(threats, \"html.parser\")\n",
    "#     cleaned_threats = soup.get_text()\n",
    "#     print(f\"Menaces : {cleaned_threats}\")\n",
    "# else:\n",
    "#     print(\"Aucune donnée trouvée pour cet assessment ID.\")\n"
   ]
  }
 ],
 "metadata": {
  "kernelspec": {
   "display_name": "Python 3",
   "language": "python",
   "name": "python3"
  },
  "language_info": {
   "codemirror_mode": {
    "name": "ipython",
    "version": 3
   },
   "file_extension": ".py",
   "mimetype": "text/x-python",
   "name": "python",
   "nbconvert_exporter": "python",
   "pygments_lexer": "ipython3",
   "version": "3.11.2"
  }
 },
 "nbformat": 4,
 "nbformat_minor": 2
}

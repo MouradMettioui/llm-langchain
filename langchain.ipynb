{
 "cells": [
  {
   "cell_type": "code",
   "execution_count": 2,
   "metadata": {},
   "outputs": [
    {
     "name": "stderr",
     "output_type": "stream",
     "text": [
      "USER_AGENT environment variable not set, consider setting it to identify your requests.\n"
     ]
    }
   ],
   "source": [
    "import os\n",
    "from dotenv import load_dotenv\n",
    "load_dotenv()\n",
    "os.environ[\"LANGCHAIN_TRACING_V2\"] = \"true\"\n",
    "os.environ[\"LANGCHAIN_API_KEY\"] = os.getenv(\"LANGCHAIN_API_KEY\")\n",
    "os.environ[\"OPENAI_API_KEY\"] = os.getenv(\"API_KEY\")\n",
    "os.environ[\"TAVILY_API_KEY\"] = os.getenv(\"TAVILY_KEY\")\n",
    "api_key = os.getenv(\"API_KEY\")\n",
    "\n",
    "from langchain_openai import ChatOpenAI\n",
    "from langchain_core.prompts import ChatPromptTemplate\n",
    "from langchain_community.tools.tavily_search import TavilySearchResults\n",
    "from langchain_core.output_parsers import StrOutputParser\n",
    "from langgraph.prebuilt import create_react_agent\n",
    "from langgraph.checkpoint.memory import MemorySaver\n",
    "from langsmith import traceable\n",
    "import bs4\n",
    "from langchain_community.document_loaders import WebBaseLoader\n",
    "\n",
    "memory = MemorySaver()\n",
    "search = TavilySearchResults(max_results=2)\n",
    "# print(search_results)\n",
    "# If we want, we can create other tools.\n",
    "# Once we have all the tools we want, we can put them in a list that we will reference later.\n",
    "tools = [search]\n",
    "\n",
    "model = ChatOpenAI(api_key=api_key, model=\"gpt-3.5-turbo\")\n",
    "# model_with_tools = model.bind_tools(tools)\n",
    "agent_executor = create_react_agent(model, tools,checkpointer=memory)\n",
    "config = {\"configurable\": {\"thread_id\": \"abc120\"}}"
   ]
  },
  {
   "cell_type": "code",
   "execution_count": null,
   "metadata": {},
   "outputs": [],
   "source": []
  },
  {
   "cell_type": "code",
   "execution_count": 6,
   "metadata": {},
   "outputs": [
    {
     "name": "stdout",
     "output_type": "stream",
     "text": [
      "Nombre de documents chargés: 2\n"
     ]
    }
   ],
   "source": [
    "from langchain.document_loaders import PyMuPDFLoader\n",
    "bs4_strainer = bs4.SoupStrainer(class_=(\"node node--type-article node--view-mode-full\",\"list-results__classification\",\"list-results__subtitle\",\"species-category -sm -icon species-category--lc\"))\n",
    "pdf_paths = [\"report-iucn.pdf\",\"2024-012-En.pdf\"]\n",
    "pdf_docs = []\n",
    "for pdf_path in pdf_paths:\n",
    "    pdf_loader = PyMuPDFLoader(pdf_path)\n",
    "    pdf_docs.extend(pdf_loader.load())\n",
    "\n",
    "web_loader = WebBaseLoader(\n",
    "    web_paths=(\"https://wwf.be/fr/communiques-de-presse/rapport-planete-vivante-du-wwf-les-populations-danimaux-sauvages-connaissent\",\n",
    "               \"https://www.iucnredlist.org/search/list?taxonLevel=Amazing&searchType=species\"\n",
    "               ),\n",
    "\n",
    "    bs_kwargs={\"parse_only\": bs4_strainer},\n",
    ")\n",
    "web_docs = web_loader.load()\n",
    "all_docs = web_docs + pdf_docs\n",
    "print(f\"Nombre de documents chargés: {len(web_docs)}\")"
   ]
  },
  {
   "cell_type": "code",
   "execution_count": 8,
   "metadata": {},
   "outputs": [
    {
     "data": {
      "text/plain": [
       "0"
      ]
     },
     "execution_count": 8,
     "metadata": {},
     "output_type": "execute_result"
    }
   ],
   "source": [
    "len(all_docs[1].page_content)"
   ]
  },
  {
   "cell_type": "code",
   "execution_count": 9,
   "metadata": {},
   "outputs": [
    {
     "data": {
      "text/plain": [
       "{'source': 'report-iucn.pdf',\n",
       " 'file_path': 'report-iucn.pdf',\n",
       " 'page': 0,\n",
       " 'total_pages': 24,\n",
       " 'format': 'PDF 1.7',\n",
       " 'title': '',\n",
       " 'author': '',\n",
       " 'subject': '',\n",
       " 'keywords': '',\n",
       " 'creator': 'Adobe InDesign 16.3 (Macintosh)',\n",
       " 'producer': 'Adobe PDF Library 15.0',\n",
       " 'creationDate': \"D:20210811115201+01'00'\",\n",
       " 'modDate': \"D:20210811115230+01'00'\",\n",
       " 'trapped': '',\n",
       " 'start_index': 0}"
      ]
     },
     "execution_count": 9,
     "metadata": {},
     "output_type": "execute_result"
    }
   ],
   "source": [
    "from langchain_text_splitters import RecursiveCharacterTextSplitter\n",
    "\n",
    "text_splitter = RecursiveCharacterTextSplitter(\n",
    "    chunk_size=1000, chunk_overlap=200, add_start_index=True\n",
    ")\n",
    "all_splits = text_splitter.split_documents(all_docs)\n",
    "\n",
    "len(all_splits)\n",
    "len(all_splits[0].page_content)\n",
    "all_splits[0].metadata"
   ]
  },
  {
   "cell_type": "code",
   "execution_count": null,
   "metadata": {},
   "outputs": [],
   "source": [
    "from langchain_community.vectorstores import FAISS \n",
    "from langchain_openai import OpenAIEmbeddings\n",
    "\n",
    "if not os.path.exists(\"faiss_index\"):\n",
    "    vectorstore = FAISS.from_documents(documents=all_splits, embedding=OpenAIEmbeddings(model=\"text-embedding-3-large\"))\n",
    "    vectorstore.save_local(\"faiss_index\")\n",
    "else:\n",
    "    local_index=FAISS.load_local(\"faiss_index\", embeddings=OpenAIEmbeddings(model=\"text-embedding-3-large\"),allow_dangerous_deserialization=True)\n",
    "\n",
    "# docsearch = FAISS.load_local(\"faiss_index\", embeddings)\n"
   ]
  },
  {
   "cell_type": "code",
   "execution_count": 17,
   "metadata": {},
   "outputs": [
    {
     "data": {
      "text/plain": [
       "6"
      ]
     },
     "execution_count": 17,
     "metadata": {},
     "output_type": "execute_result"
    }
   ],
   "source": [
    "retriever = local_index.as_retriever(search_type=\"similarity\", search_kwargs={\"k\": 6})\n",
    "\n",
    "retrieved_docs = retriever.invoke(\"quel est le déclin moyen des populations d'animaux sauvages ?\")\n",
    "\n",
    "len(retrieved_docs)\n",
    "# print(retrieved_docs[0].page_content)"
   ]
  },
  {
   "cell_type": "code",
   "execution_count": 15,
   "metadata": {},
   "outputs": [],
   "source": [
    "# from langchain_chroma import Chroma\n",
    "# from langchain_openai import OpenAIEmbeddings\n",
    "# sample_splits = all_splits[:100]\n",
    "# vectorstore = Chroma.from_documents(documents=sample_splits, embedding=OpenAIEmbeddings(model=\"text-embedding-3-large\"))"
   ]
  },
  {
   "cell_type": "code",
   "execution_count": 16,
   "metadata": {},
   "outputs": [
    {
     "name": "stdout",
     "output_type": "stream",
     "text": [
      "Please provide a question or topic that you would like assistance with.\n"
     ]
    },
    {
     "data": {
      "text/plain": [
       "[SystemMessage(content=\"Use the following pieces of context and the tools at your disposition to answer the question at the end.\\nIf you don't know the answer, just say that you don't know.\\nUse five sentences maximum and keep the answer as concise as possible.\\nRing-tailed Lemur (Lemur catta) ©Zwennie CC BY-SA 2.0\\nImage credits: South-Western Black Rhino (Diceros bicornis occidentalis) ©Dave Hamman\\nRainbow Eucalyptus (Eucalyptus deglupta) ©Thomas Caldwell\\nWater monitor (Varanus salvator) ©Stewart MacDonald\\nSclater's guenon (Cercopithecus sclateri) ©Lynne R. Baker\\n\\n26\\n27\\nIUCN Red List at Regional and National Levels\\nA miniature world \\nin decline\\nEuropean Red List of Mosses, \\nLiverworts and Hornworts\\nNick Hodgetts, Marta Cálix, Eve Englefield, Nicholas Fettes, Mariana García Criado, Lea Patin, Ana Nieto, Ariel Bergamini,  Irene \\nBisang, Elvira Baisheva, Patrizia Campisi, Annalena Cogoni, Tomas Hallingbäck, Nadya Konstantinova, Neil Lockhart, Marko \\nSabovljevic, Norbert Schnyder, Christian Schröck, Cecilia Sérgio, Manuela Sim Sim, Jan Vrba, Catarina C. Ferreira, Olga Afonina, \\nTom Blockeel, Hans Blom, Steffen Caspari, Rosalina Gabriel, César Garcia, Ricardo Garilleti,  Juana González Mancebo, Irina \\nGoldberg, Lars Hedenäs, David Holyoak, Vincent Hugonnot, Sanna Huttunen, Mikhail Ignatov, Elena Ignatova, Marta Infante, Riikka \\nJuutinen, Thomas Kiebacher, Heribert Köckinger, Jan Kučera, Niklas Lönnell, Michael Lüth, Anabela Martins, Oleg Maslovsky,\\n\\norg/10.1126/\\nscience.aax3100\\n..................................................\\non July 21, 2021\\nhttp://science.sciencemag.org/\\nDownloaded from \\nPervasive human-driven decline of life on \\nEarth points to the need for profound change\\nDiaz et al. 2019 showed that “the fabric of life on \\nwhich we all depend-nature and its contributions to \\npeople-is unravelling rapidly. Despite the severity of \\nthe threats and lack of enough progress in tackling \\nthem to date, opportunities exist to change future \\ntrajectories through transformative action. Such action \\nmust begin immediately, however, and address the \\nroot economic, social, and technological causes of \\nnature's deterioration.”\\nGuam Rail\\nHypotaenidia owstoni\\nsecond bird in history to recover after being \\ndeclared Extinct in the Wild, after the California \\nCondor (Gymnogyps californianus). Thanks \\nto a 35-year captive breeding programme, \\nthe Guam Rail is now established on the \\nneighbouring Cocos Island. However, the bird\\n\\nIUCN Red List\\n2017–2020 Report\\nImage credits: Rodrigues Fruit Bat (Pteropus rodricensis) © Jacques de Speville\\nENDANGERED\\nEN\\n\\nto empower communities around the world to \\nreverse the declining trajectory of biodiversity.\\n7\\nImage credits: Chinese Water Dragon (Physignathus cocincinus) © Michael Cota\\nVULNERABLE\\nVU\\nSustainable Development Goals and other global agreements\\nThe convening power of IUCN\\n\\nrelease into the wild. \\nImage credits: Kinabalu Slender Litter Frog (Leptobrachella arayai) ©Andreas & Christel Nöllert, Jena\\nOkarito Kiwi (Apteryx rowi) ©Grant Maslowski\\nImage credits: Golden Bamboo Lemur (Hapalemur aureus) ©Nick Garbutt\\nThe Irrawaddy Dolphin (Orcaella brevirostris) ©Isabel Beasley\", additional_kwargs={}, response_metadata={}, id='3df5753e-70af-4aa1-bdfd-06e1fbcf33d3'),\n",
       " HumanMessage(content='', additional_kwargs={}, response_metadata={}, id='83373110-dad7-4eb6-a513-52764b6a0aeb'),\n",
       " AIMessage(content='Please provide a question or topic that you would like assistance with.', additional_kwargs={'refusal': None}, response_metadata={'token_usage': {'completion_tokens': 14, 'prompt_tokens': 981, 'total_tokens': 995, 'completion_tokens_details': {'audio_tokens': 0, 'reasoning_tokens': 0, 'accepted_prediction_tokens': 0, 'rejected_prediction_tokens': 0}, 'prompt_tokens_details': {'audio_tokens': 0, 'cached_tokens': 0}}, 'model_name': 'gpt-3.5-turbo-0125', 'system_fingerprint': None, 'finish_reason': 'stop', 'logprobs': None}, id='run-c6dd350a-9900-400a-9084-b80c37949e43-0', usage_metadata={'input_tokens': 981, 'output_tokens': 14, 'total_tokens': 995})]"
      ]
     },
     "execution_count": 16,
     "metadata": {},
     "output_type": "execute_result"
    }
   ],
   "source": [
    "from langchain_core.messages import HumanMessage, SystemMessage\n",
    "import textwrap\n",
    "from langchain_core.runnables import RunnablePassthrough\n",
    "from langchain import hub\n",
    "from langchain_core.prompts import PromptTemplate\n",
    "load_dotenv()\n",
    "\n",
    "Q = \"quel est le déclin moyen des populations d'animaux sauvages ?\"\n",
    "\n",
    "template = \"\"\"Use the following pieces of context and the tools at your disposition to answer the question at the end.\n",
    "If you don't know the answer, just say that you don't know.\n",
    "Use five sentences maximum and keep the answer as concise as possible.\n",
    "{context}\"\"\"\n",
    "# prompt = hub.pull(\"rlm/rag-prompt\")\n",
    "# custom_rag_prompt = PromptTemplate.from_template(template)\n",
    "prompt_template = ChatPromptTemplate.from_messages(\n",
    "    [(\"system\", template), (\"user\", \"{question}\" )]\n",
    ")\n",
    "\n",
    "def format_docs(docs):\n",
    "    return \"\\n\\n\".join(doc.page_content for doc in docs)\n",
    "\n",
    "\n",
    "chain =  {\"context\": retriever | format_docs, \"question\": RunnablePassthrough()} | prompt_template | agent_executor \n",
    "\n",
    "Input = input(\"avez-vous des Questions ?\")\n",
    "@traceable\n",
    "def process(user_input: str):\n",
    "    response = chain.invoke(user_input,config)\n",
    "    final_content = response[\"messages\"][-1].content\n",
    "    answer= textwrap.fill(final_content,width=100)\n",
    "    print(answer)\n",
    "    return response['messages'] \n",
    "\n",
    "process(Input)"
   ]
  },
  {
   "cell_type": "code",
   "execution_count": null,
   "metadata": {},
   "outputs": [],
   "source": []
  }
 ],
 "metadata": {
  "kernelspec": {
   "display_name": "Python 3",
   "language": "python",
   "name": "python3"
  },
  "language_info": {
   "codemirror_mode": {
    "name": "ipython",
    "version": 3
   },
   "file_extension": ".py",
   "mimetype": "text/x-python",
   "name": "python",
   "nbconvert_exporter": "python",
   "pygments_lexer": "ipython3",
   "version": "3.11.2"
  }
 },
 "nbformat": 4,
 "nbformat_minor": 2
}
